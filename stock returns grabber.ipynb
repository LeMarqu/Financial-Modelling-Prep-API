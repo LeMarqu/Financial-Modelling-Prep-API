{
 "cells": [
  {
   "cell_type": "code",
   "execution_count": 2,
   "id": "included-partner",
   "metadata": {},
   "outputs": [
    {
     "name": "stdout",
     "output_type": "stream",
     "text": [
      "nan\n"
     ]
    }
   ],
   "source": [
    "# list of stocks formatted as so: \"'aapl',\"\n",
    "acs = []\n",
    "\n",
    "from pandas_datareader import data as pdr\n",
    "from yahoo_fin import stock_info as si\n",
    "from pandas import ExcelWriter\n",
    "import yfinance as yf\n",
    "import pandas as pd\n",
    "import datetime\n",
    "import time\n",
    "yf.pdr_override()\n",
    "\n",
    "# date adjustment\n",
    "end=datetime.datetime(2021,6,10)\n",
    "start=datetime.datetime(2018,6,10)\n",
    "dates=pd.date_range(start=start,end=end,freq='1W')\n",
    "\n",
    "r = si.get_data(acs[0],start_date=start,end_date=end,interval='1wk')['adjclose'].pct_change(1)\n",
    "#notice the frequency format is not the same as above (ie: \"1W\" as opposed to \"1wk\")\n",
    "\n",
    "q = pd.DataFrame(data=r)\n",
    "q = q.rename(columns={'adjclose':acs[0]})\n",
    "\n",
    "\n",
    "\n",
    "for tic in acs:\n",
    "    try:\n",
    "        b = si.get_data(tic,start_date=start,end_date=end,interval='1wk')['adjclose'].pct_change(1)\n",
    "        g = pd.DataFrame(data=b)\n",
    "        g = g.rename(columns={'adjclose':tic})\n",
    "        q = q.join(g)\n",
    "    except:\n",
    "        print('nan')\n",
    "    \n",
    "q.to_csv('Stock_List_Returns.csv')\n"
   ]
  },
  {
   "cell_type": "code",
   "execution_count": 19,
   "id": "toxic-shepherd",
   "metadata": {},
   "outputs": [],
   "source": [
    "from pandas_datareader import data as pdr\n",
    "from yahoo_fin import stock_info as si\n",
    "from pandas import ExcelWriter\n",
    "import yfinance as yf\n",
    "import pandas as pd\n",
    "import datetime\n",
    "import time\n",
    "\n",
    "yf.pdr_override()\n",
    "end=datetime.datetime(2021,6,10)\n",
    "start=datetime.datetime(2018,6,10)\n",
    "dates=pd.date_range(start=start,end=end,freq='1W')\n",
    "\n",
    "#Benchmark\n",
    "spy = si.get_data('spy',start_date=start,end_date=end,interval='1wk')['adjclose'].pct_change(1)\n",
    "sp = pd.DataFrame(data=spy)\n",
    "sp = sp.rename(columns={'adjclose':'spy'})\n",
    "\n",
    "\n",
    "sp.to_csv('spy_Returns.csv')"
   ]
  }
 ],
 "metadata": {
  "kernelspec": {
   "display_name": "Python 3",
   "language": "python",
   "name": "python3"
  },
  "language_info": {
   "codemirror_mode": {
    "name": "ipython",
    "version": 3
   },
   "file_extension": ".py",
   "mimetype": "text/x-python",
   "name": "python",
   "nbconvert_exporter": "python",
   "pygments_lexer": "ipython3",
   "version": "3.9.1"
  }
 },
 "nbformat": 4,
 "nbformat_minor": 5
}
