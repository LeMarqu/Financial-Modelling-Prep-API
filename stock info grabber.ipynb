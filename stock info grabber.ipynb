{
 "cells": [
  {
   "cell_type": "code",
   "execution_count": 64,
   "id": "asian-guitar",
   "metadata": {},
   "outputs": [
    {
     "name": "stdout",
     "output_type": "stream",
     "text": [
      "nan\n",
      "nan\n",
      "nan\n",
      "nan\n",
      "nan\n",
      "nan\n",
      "nan\n",
      "nan\n",
      "nan\n",
      "nan\n",
      "nan\n",
      "nan\n",
      "nan\n",
      "nan\n",
      "nan\n",
      "nan\n",
      "nan\n",
      "nan\n",
      "nan\n",
      "nan\n",
      "nan\n",
      "nan\n",
      "nan\n",
      "nan\n",
      "nan\n",
      "nan\n",
      "nan\n",
      "nan\n"
     ]
    }
   ],
   "source": [
    "# grabs attributes of each individual security for excel analysis\n",
    "# list of stocks formatted as so: \"'aapl',\"\n",
    "lis = []\n",
    "\n",
    "from pandas_datareader import data as pdr\n",
    "from yahoo_fin import stock_info as si\n",
    "from pandas import ExcelWriter\n",
    "import yfinance as yf\n",
    "import pandas as pd\n",
    "import datetime\n",
    "import time\n",
    "yf.pdr_override()\n",
    "\n",
    "r = si.get_stats(lis[0])\n",
    "\n",
    "\"\"\"new_header = r.iloc[0] #grab the first row for the header\n",
    "r = r[1:] #take the data less the header row\n",
    "r.columns = new_header #set the header row as the df header\"\"\"\n",
    "\n",
    "\n",
    "for tic in lis:\n",
    "    try:\n",
    "        b = si.get_stats(tic)\n",
    "        b = b.drop(columns='Attribute')\n",
    "        b = b.rename(columns={'Value':tic})\n",
    "        r = r.join(b)\n",
    "    except:\n",
    "        print('nan')\n",
    "       \n",
    "        \n",
    "r = r.transpose()\n",
    "new_header = r.iloc[0] #grab the first row for the header\n",
    "r = r[1:] #take the data less the header row\n",
    "r.columns = new_header #set the header row as the df header\n",
    "r.to_csv('approved_stock_list_ratios.csv')"
   ]
  },
  {
   "cell_type": "code",
   "execution_count": null,
   "id": "toxic-shepherd",
   "metadata": {},
   "outputs": [],
   "source": []
  }
 ],
 "metadata": {
  "kernelspec": {
   "display_name": "Python 3",
   "language": "python",
   "name": "python3"
  },
  "language_info": {
   "codemirror_mode": {
    "name": "ipython",
    "version": 3
   },
   "file_extension": ".py",
   "mimetype": "text/x-python",
   "name": "python",
   "nbconvert_exporter": "python",
   "pygments_lexer": "ipython3",
   "version": "3.9.1"
  }
 },
 "nbformat": 4,
 "nbformat_minor": 5
}
